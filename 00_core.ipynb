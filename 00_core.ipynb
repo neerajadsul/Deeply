{
 "cells": [
  {
   "cell_type": "markdown",
   "metadata": {},
   "source": [
    "# core\n",
    "\n",
    "> Fill in a module description here"
   ]
  },
  {
   "cell_type": "code",
   "execution_count": 1,
   "metadata": {},
   "outputs": [],
   "source": [
    "#| default_exp core"
   ]
  },
  {
   "cell_type": "code",
   "execution_count": 2,
   "metadata": {},
   "outputs": [],
   "source": [
    "#| hide\n",
    "from nbdev.showdoc import *"
   ]
  },
  {
   "cell_type": "code",
   "execution_count": 3,
   "metadata": {},
   "outputs": [],
   "source": [
    "#| export\n",
    "import torch\n",
    "import torchvision\n",
    "from torchvision.datasets import DatasetFolder\n",
    "from torchvision.io import read_image, ImageReadMode"
   ]
  },
  {
   "cell_type": "code",
   "execution_count": 4,
   "metadata": {},
   "outputs": [],
   "source": [
    "#| export\n",
    "class CustomImageDataset(DatasetFolder):\n",
    "    \"\"\"Subclasses DatasetFolder for custom dataset organised by labels as subfolder names.\n",
    "        https://pytorch.org/vision/stable/generated/torchvision.datasets.DatasetFolder.html\n",
    "    \"\"\"\n",
    "    def __init__(self, image_dir,\n",
    "                 loader=torchvision.io.read_image, extensions=('png','jpg','jpeg'),\n",
    "                 transform=None, target_transform=None):\n",
    "        self.root = image_dir\n",
    "        self.loader = loader\n",
    "        self.extensions = extensions\n",
    "        self.transform = transform\n",
    "        self.target_transform = target_transform\n",
    "        self.labels, self.mapping = super().find_classes(self.root)\n",
    "        print(f'{len(self.labels)} classes found.')\n",
    "        self.dataset = super().make_dataset(self.root, self.mapping, extensions=self.extensions)\n",
    "\n",
    "    def __len__(self):\n",
    "        return len(self.labels)\n",
    "\n",
    "    def __getitem__(self, idx):\n",
    "        image, label = self.dataset[idx]\n",
    "        print(image, label)\n",
    "        image = self.loader(image)\n",
    "        if self.transform:            \n",
    "            image = self.transform(image)\n",
    "            print('transformed')\n",
    "        if self.target_transform:\n",
    "            label = self.target_transform(label)\n",
    "            print('target transformed')\n",
    "        return image, label"
   ]
  },
  {
   "cell_type": "code",
   "execution_count": 5,
   "metadata": {},
   "outputs": [],
   "source": [
    "#| hide\n",
    "import nbdev; nbdev.nbdev_export()"
   ]
  },
  {
   "cell_type": "code",
   "execution_count": null,
   "metadata": {},
   "outputs": [],
   "source": []
  }
 ],
 "metadata": {
  "kernelspec": {
   "display_name": "Python 3 (ipykernel)",
   "language": "python",
   "name": "python3"
  },
  "language_info": {
   "codemirror_mode": {
    "name": "ipython",
    "version": 3
   },
   "file_extension": ".py",
   "mimetype": "text/x-python",
   "name": "python",
   "nbconvert_exporter": "python",
   "pygments_lexer": "ipython3",
   "version": "3.11.8"
  }
 },
 "nbformat": 4,
 "nbformat_minor": 4
}
